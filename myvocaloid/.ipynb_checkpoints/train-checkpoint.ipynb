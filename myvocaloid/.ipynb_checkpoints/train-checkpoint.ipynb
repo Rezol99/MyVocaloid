{
 "cells": [
  {
   "cell_type": "code",
   "execution_count": null,
   "id": "7b7418fb-a110-420c-b1c6-6bbaf86b4787",
   "metadata": {},
   "outputs": [
    {
     "name": "stdout",
     "output_type": "stream",
     "text": [
      "Data length: 12\n",
      "note length example: 460\n"
     ]
    }
   ],
   "source": [
    "from file_encoder import FileEncoder\n",
    "from data_manager import DataManager\n",
    "from audio_utils import SAMPLE_RATE, N_MELS\n",
    "import numpy as np\n",
    "import sys\n",
    "import tensorflow as tf\n",
    "from tensorflow.keras import layers, models, Model\n",
    "from tensorflow.keras.optimizers import Adam\n",
    "\n",
    "\n",
    "TARGET_DIR = \"../thirdparty/「波音リツ」歌声データベースVer2/DATABASE\"\n",
    "OUTPUT_DIR = \"../master/ust/json\"\n",
    "\n",
    "\n",
    "need_encode = True\n",
    "\n",
    "manager = DataManager()\n",
    "\n",
    "if need_encode:\n",
    "    encoder = FileEncoder(TARGET_DIR, OUTPUT_DIR)\n",
    "    names, lyric_indexs, durations, notenums, y = encoder.encode()\n",
    "    manager.save(lyric_indexs, durations, notenums, names, y)\n",
    "    \n",
    "lyric_indexs, duration_indexs, notenum_indexs, names, y = manager.load()\n",
    "(train_lyric, train_duration, train_notenum), (test_lyric, test_duration, test_notenum), y_train, y_test = manager.get_train_and_test_data()\n",
    "\n",
    "max_lyric_index = np.max(lyric_indexs)\n",
    "\n",
    "assert len(y) > 0 and len(lyric_indexs) > 0 and len(duration_indexs) > 0 and len(notenum_indexs) > 0\n",
    "\n",
    "print(\"building model...\")\n",
    "# 入力データの形状を定義\n",
    "\n",
    "#print(\"train_lyric\", train_lyric)\n",
    "#print(\"train_duration.\", train_duration)\n",
    "#print(\"train_notenum\", train_notenum)\n",
    "\n",
    "\n",
    "print(\"train_lyric.shape\", train_lyric.shape)\n",
    "print(\"train_duration.shape\", train_duration.shape)\n",
    "print(\"train_notenum.shape\", train_notenum.shape)\n",
    "\n",
    "lyric_input = tf.keras.Input(shape=train_lyric.shape[1:], name=\"lyric_input\", dtype=\"int32\")\n",
    "duration_input = tf.keras.Input(shape=train_duration.shape[1:], name=\"duration_input\", dtype=\"float32\")\n",
    "notenum_input = tf.keras.Input(shape= train_notenum.shape[1:], name=\"notenum_input\", dtype=\"float32\")\n",
    "\n",
    "# Embedding 層\n",
    "lyric_embedded = layers.Embedding(input_dim=max_lyric_index + 1, output_dim=128)(lyric_input)\n",
    "\n",
    "duration_reshaped = layers.Reshape((-1, 1))(duration_input)  # (batch_size, 784, 1)\n",
    "notenum_reshaped = layers.Reshape((-1, 1))(notenum_input)    # (batch_size, 784, 1)\n",
    "\n",
    "# 入力を結合\n",
    "merged = layers.Concatenate()([lyric_embedded, duration_reshaped, notenum_reshaped])\n",
    "\n",
    "# LSTM 層\n",
    "lstm_out = layers.LSTM(256, return_sequences=True)(merged)\n",
    "lstm_out = layers.LSTM(256, return_sequences=True)(lstm_out)\n",
    "\n",
    "# 出力層: 13660 フレーム × 128 次元（n_mels）\n",
    "n_mels = 128  # メルスペクトログラムの周波数次元\n",
    "output = layers.Dense(128)(lstm_out)\n",
    "output = layers.Reshape(y_train.shape[1:])(output)\n",
    "\n",
    "# モデルの構築\n",
    "model = tf.keras.Model(\n",
    "    inputs=[lyric_input, duration_input, notenum_input],\n",
    "    outputs=output,\n",
    "    name=\"vocaloid_model\"\n",
    ")\n",
    "\n",
    "optimizer = Adam()\n",
    "\n",
    "model.compile(\n",
    "    optimizer=optimizer, \n",
    "    loss='mse',\n",
    "    metrics=['mae']\n",
    ")\n",
    "\n",
    "model.summary()\n",
    "\n",
    "model.fit(\n",
    "    [train_lyric, train_duration, train_notenum],  # 入力データ（リスト形式）\n",
    "    y_train,  # 出力データ\n",
    "    batch_size=64,\n",
    "    epochs=200,\n",
    ")\n",
    "\n",
    "manager.save_model(model)\n",
    "\n",
    "print(\"Done!\")"
   ]
  },
  {
   "cell_type": "code",
   "execution_count": 2,
   "id": "a6a2c3f2-f1e5-4edd-8629-8d0257b418e4",
   "metadata": {},
   "outputs": [
    {
     "data": {
      "text/plain": [
       "204.8"
      ]
     },
     "execution_count": 2,
     "metadata": {},
     "output_type": "execute_result"
    }
   ],
   "source": [
    "2048 * 128 / 1280\n"
   ]
  },
  {
   "cell_type": "code",
   "execution_count": 6,
   "id": "dffaf03f-e12b-488c-a2e9-33ef23558761",
   "metadata": {},
   "outputs": [
    {
     "data": {
      "text/plain": [
       "204.8"
      ]
     },
     "execution_count": 6,
     "metadata": {},
     "output_type": "execute_result"
    }
   ],
   "source": [
    "2048 * 128 / "
   ]
  },
  {
   "cell_type": "code",
   "execution_count": 7,
   "id": "bb3fed64-901a-404b-93b3-35a23dd957fc",
   "metadata": {},
   "outputs": [
    {
     "data": {
      "text/plain": [
       "8.0"
      ]
     },
     "execution_count": 7,
     "metadata": {},
     "output_type": "execute_result"
    }
   ],
   "source": [
    "2048 / 256"
   ]
  },
  {
   "cell_type": "code",
   "execution_count": null,
   "id": "0782afbb-ecd2-49fb-afa0-a70ad65ab3ec",
   "metadata": {},
   "outputs": [],
   "source": []
  }
 ],
 "metadata": {
  "kernelspec": {
   "display_name": "Python 3 (ipykernel)",
   "language": "python",
   "name": "python3"
  },
  "language_info": {
   "codemirror_mode": {
    "name": "ipython",
    "version": 3
   },
   "file_extension": ".py",
   "mimetype": "text/x-python",
   "name": "python",
   "nbconvert_exporter": "python",
   "pygments_lexer": "ipython3",
   "version": "3.12.3"
  }
 },
 "nbformat": 4,
 "nbformat_minor": 5
}
