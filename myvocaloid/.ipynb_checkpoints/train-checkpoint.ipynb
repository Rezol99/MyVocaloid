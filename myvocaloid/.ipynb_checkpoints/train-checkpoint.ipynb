{
 "cells": [
  {
   "cell_type": "code",
   "execution_count": 20,
   "id": "7b7418fb-a110-420c-b1c6-6bbaf86b4787",
   "metadata": {},
   "outputs": [],
   "source": [
    "from file_encoder import FileEncoder\n",
    "from data_manager import DataManager\n",
    "from audio_utils import N_MELS\n",
    "import numpy as np\n",
    "import sys\n",
    "import tensorflow as tf\n",
    "from tensorflow.keras import layers, models, Model\n",
    "\n",
    "\n",
    "TARGET_DIR = \"../thirdparty/「波音リツ」歌声データベースVer2/DATABASE\"\n",
    "OUTPUT_DIR = \"../master/ust/json\"\n",
    "    \n",
    "PITCH_FEATURES = 1 # MIDI番号を0 ~ 100のスカラー\n",
    "LYRIC_FEATURES = 1 # 歌詞をインデックスしたのでスカラー\n",
    "DURATION_FEATURES = 1 # msの長さを正規化したのでスカラー\n",
    "NOTE_CHUK_INDEX_FEATURES = 1 # 何番目の分割化を正規化したのでスカラー\n",
    "\n",
    "LYRIC_INDEX_MAX_DIM = 150 # インデックス化した歌詞の最大インデックス（150種類くらい単語がありそう）\n",
    "LYRIC_DIM = 64 # インデックス化した歌詞を埋め込みした後の次元\n",
    "DURATION_DIM = 1 # 正規化した長さのミリ秒（0ミリ秒 ~ 10000ミリ秒（10秒）)\n",
    "\n",
    "# TODO: N分割したいが今後考える（ビブラートなどを考慮するにはノートを更に分割したい）\n",
    "NOTE_CHUNK = 1 # 1ノートに対して1分割する\n",
    "\n",
    "    \n",
    "pitch_input = layers.Input(shape=(NOTE_CHUNK,PITCH_FEATURES), name=\"pitch_input\")\n",
    "lyric_input = layers.Input(shape=(NOTE_CHUNK,), name=\"lyric_input\")\n",
    "duration_input = layers.Input(shape=(NOTE_CHUNK,DURATION_FEATURES), name=\"duration_input\")\n",
    "# note_chunk_index_input = layers.Input(shape=(NOTE_CHUNK,NOTE_CHUK_INDEX_FEATURES), name=\"note_chunk_index_input\") # 何番目に分割したのか保持\n",
    "\n",
    "# 歌詞を埋め込み\n",
    "lyric_embedding = layers.Embedding(output_dim=LYRIC_DIM, input_dim=LYRIC_INDEX_MAX_DIM, name=\"lyric_embedding\")(lyric_input) # 埋め込み\n",
    "\n",
    "# 時系列\n",
    "lstm_pitch = layers.LSTM(units=64, return_sequences=True)(pitch_input)\n",
    "lstm_duration = layers.LSTM(units=64, return_sequences=True)(duration_input)\n",
    "lstm_lyric_embedding = layers.LSTM(units=64, return_sequences=True)(lyric_embedding)\n",
    "# lstm_note_chunk_index = layers.LSTM(units=64, return_sequences=True)(note_chunk_index_input)\n",
    "\n",
    "\n",
    "merged = layers.Concatenate(axis=-1, name=\"merged_features\")(\n",
    "    [lstm_pitch, lstm_lyric_embedding, lstm_duration]\n",
    "    # [lstm_pitch, lstm_lyric_embedding, lstm_duration, lstm_note_chunk_index]\n",
    ")\n",
    "\n",
    "# 最終的な時系列処理\n",
    "final_lstm = layers.LSTM(128, return_sequences=True, name=\"final_lstm\")(merged)\n",
    "\n",
    "# 出力層（例: メルスペクトログラムへの回帰）\n",
    "output = layers.Dense(N_MELS, activation=\"tanh\", name=\"output\")(final_lstm)\n",
    "\n"
   ]
  },
  {
   "cell_type": "code",
   "execution_count": null,
   "id": "bb3fed64-901a-404b-93b3-35a23dd957fc",
   "metadata": {},
   "outputs": [],
   "source": []
  },
  {
   "cell_type": "code",
   "execution_count": null,
   "id": "dffaf03f-e12b-488c-a2e9-33ef23558761",
   "metadata": {},
   "outputs": [],
   "source": [
    "89600 / 70"
   ]
  }
 ],
 "metadata": {
  "kernelspec": {
   "display_name": "Python 3 (ipykernel)",
   "language": "python",
   "name": "python3"
  },
  "language_info": {
   "codemirror_mode": {
    "name": "ipython",
    "version": 3
   },
   "file_extension": ".py",
   "mimetype": "text/x-python",
   "name": "python",
   "nbconvert_exporter": "python",
   "pygments_lexer": "ipython3",
   "version": "3.12.3"
  }
 },
 "nbformat": 4,
 "nbformat_minor": 5
}
