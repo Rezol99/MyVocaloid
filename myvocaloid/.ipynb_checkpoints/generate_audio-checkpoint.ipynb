{
 "cells": [
  {
   "cell_type": "code",
   "execution_count": 1,
   "id": "91c4db27-416f-4606-a8b2-ad4aac402677",
   "metadata": {},
   "outputs": [
    {
     "name": "stderr",
     "output_type": "stream",
     "text": [
      "2024-12-31 12:29:25.123796: E external/local_xla/xla/stream_executor/cuda/cuda_fft.cc:477] Unable to register cuFFT factory: Attempting to register factory for plugin cuFFT when one has already been registered\n",
      "WARNING: All log messages before absl::InitializeLog() is called are written to STDERR\n",
      "E0000 00:00:1735615765.139372   84640 cuda_dnn.cc:8310] Unable to register cuDNN factory: Attempting to register factory for plugin cuDNN when one has already been registered\n",
      "E0000 00:00:1735615765.144032   84640 cuda_blas.cc:1418] Unable to register cuBLAS factory: Attempting to register factory for plugin cuBLAS when one has already been registered\n",
      "2024-12-31 12:29:25.164671: I tensorflow/core/platform/cpu_feature_guard.cc:210] This TensorFlow binary is optimized to use available CPU instructions in performance-critical operations.\n",
      "To enable the following instructions: AVX2 FMA, in other operations, rebuild TensorFlow with the appropriate compiler flags.\n"
     ]
    },
    {
     "name": "stdout",
     "output_type": "stream",
     "text": [
      "Loading test data...\n",
      "target name lost_and_cry\n",
      "exist? ../thirdparty/「波音リツ」歌声データベースVer2/DATABASE/lost_and_cry/lost_and_cry.wav True\n",
      "train first x (1, 3, 784)\n"
     ]
    },
    {
     "name": "stderr",
     "output_type": "stream",
     "text": [
      "I0000 00:00:1735615768.449486   84640 gpu_device.cc:2022] Created device /job:localhost/replica:0/task:0/device:GPU:0 with 5564 MB memory:  -> device: 0, name: NVIDIA GeForce RTX 3070, pci bus id: 0000:01:00.0, compute capability: 8.6\n",
      "2024-12-31 12:29:30.154330: W external/local_xla/xla/tsl/framework/cpu_allocator_impl.cc:83] Allocation of 183500800 exceeds 10% of free system memory.\n",
      "2024-12-31 12:29:30.451945: W external/local_xla/xla/tsl/framework/cpu_allocator_impl.cc:83] Allocation of 183500800 exceeds 10% of free system memory.\n",
      "2024-12-31 12:29:30.563668: W external/local_xla/xla/tsl/framework/cpu_allocator_impl.cc:83] Allocation of 183500800 exceeds 10% of free system memory.\n",
      "I0000 00:00:1735615770.843001   84791 cuda_dnn.cc:529] Loaded cuDNN version 90600\n"
     ]
    },
    {
     "name": "stdout",
     "output_type": "stream",
     "text": [
      "\u001b[1m1/1\u001b[0m \u001b[32m━━━━━━━━━━━━━━━━━━━━\u001b[0m\u001b[37m\u001b[0m \u001b[1m0s\u001b[0m 324ms/step\n"
     ]
    },
    {
     "ename": "NameError",
     "evalue": "name 'json' is not defined",
     "output_type": "error",
     "traceback": [
      "\u001b[0;31m---------------------------------------------------------------------------\u001b[0m",
      "\u001b[0;31mNameError\u001b[0m                                 Traceback (most recent call last)",
      "Cell \u001b[0;32mIn[1], line 30\u001b[0m\n\u001b[1;32m     27\u001b[0m predicted_mel_spectrogram \u001b[38;5;241m=\u001b[39m model\u001b[38;5;241m.\u001b[39mpredict(train_first_x)[\u001b[38;5;241m0\u001b[39m]\n\u001b[1;32m     29\u001b[0m \u001b[38;5;28;01mwith\u001b[39;00m \u001b[38;5;28mopen\u001b[39m(\u001b[38;5;124m\"\u001b[39m\u001b[38;5;124m../data/json/encode_params.json\u001b[39m\u001b[38;5;124m\"\u001b[39m) \u001b[38;5;28;01mas\u001b[39;00m f:\n\u001b[0;32m---> 30\u001b[0m     data \u001b[38;5;241m=\u001b[39m \u001b[43mjson\u001b[49m\u001b[38;5;241m.\u001b[39mload(f)\n\u001b[1;32m     31\u001b[0m     max_value \u001b[38;5;241m=\u001b[39m data[\u001b[38;5;124m\"\u001b[39m\u001b[38;5;124mmax\u001b[39m\u001b[38;5;124m\"\u001b[39m]\n\u001b[1;32m     32\u001b[0m     min_value \u001b[38;5;241m=\u001b[39m data[\u001b[38;5;124m\"\u001b[39m\u001b[38;5;124mmin\u001b[39m\u001b[38;5;124m\"\u001b[39m]\n",
      "\u001b[0;31mNameError\u001b[0m: name 'json' is not defined"
     ]
    }
   ],
   "source": [
    "from data_manager import DataManager\n",
    "from audio_utils import mel_to_audio, save_audio, mel_to_audio, load_audio, audio_to_mel\n",
    "import numpy as np\n",
    "import matplotlib.pyplot as plt\n",
    "import os\n",
    "import json\n",
    "\n",
    "if __name__ == \"__main__\":\n",
    "    manager = DataManager()\n",
    "    print(\"Loading test data...\")\n",
    "    (train_lyric, train_duration, train_notenum), (test_lyric, test_duration, test_notenum), y_train, y_test = manager.get_train_and_test_data()\n",
    "\n",
    "    manager.load()\n",
    "    target_name = manager.names[0]\n",
    "    print(\"target name\", target_name)\n",
    "    wav_path = f\"../thirdparty/「波音リツ」歌声データベースVer2/DATABASE/{target_name}/{target_name}.wav\"\n",
    "    print(\"exist?\", wav_path, os.path.isfile(wav_path))\n",
    "\n",
    "    target_audio = load_audio(wav_path)\n",
    "    \n",
    "    train_first_x = np.array([[train_lyric[0], train_duration[0], train_notenum[0]]])\n",
    "    print(\"train first x\", train_first_x.shape)\n",
    "    train_first_y = y_train[0]\n",
    "\n",
    "    model = manager.load_model()\n",
    "\n",
    "    predicted_mel_spectrogram = model.predict(train_first_x)[0]\n",
    "\n",
    "    with open(\"../data/json/encode_params.json\") as f:\n",
    "        data = json.load(f)\n",
    "        max_value = data[\"max\"]\n",
    "        min_value = data[\"min\"]\n",
    "\n",
    "    \n",
    "    predicted_mel_spectrogram =  predicted_mel_spectrogram * (max_value - min_value) + min_value\n",
    "    \n",
    "    print(predicted_mel_spectrogram.shape)\n",
    "    \n",
    "    print(\"first train y shape\", train_first_y.shape)\n",
    "    plt.plot(train_first_y)\n",
    "    plt.title = \"fist train y\"\n",
    "    plt.show()\n",
    "\n",
    "    print(\"fist train predicted y\", predicted_mel_spectrogram)\n",
    "    plt.plot(predicted_mel_spectrogram)\n",
    "    plt.title = \"first predicted y\"\n",
    "    plt.show()\n",
    "\n",
    "    audio = mel_to_audio(predicted_mel_spectrogram)\n",
    "    save_audio(\"mel_to_test.wav\", audio)\n",
    "\n",
    "    print(\"target audio\")\n",
    "    plt.plot(target_audio)\n",
    "    plt.title = \"taret audio\"\n",
    "    plt.show()\n",
    "\n",
    "    print(\"target mel audio\")\n",
    "    mel_audio = audio_to_mel(target_audio)\n",
    "    plt.plot(mel_audio)\n",
    "    plt.title = \"mel target audio\"\n",
    "    plt.show()"
   ]
  },
  {
   "cell_type": "code",
   "execution_count": null,
   "id": "acc5ef09-9497-4350-bd38-80cccac87b06",
   "metadata": {},
   "outputs": [],
   "source": []
  },
  {
   "cell_type": "code",
   "execution_count": null,
   "id": "73db04aa-bb69-4aa3-98bb-7c6be52cb0e9",
   "metadata": {},
   "outputs": [],
   "source": []
  },
  {
   "cell_type": "code",
   "execution_count": null,
   "id": "5b5af820-297d-49fa-b63e-957838247264",
   "metadata": {},
   "outputs": [],
   "source": []
  },
  {
   "cell_type": "code",
   "execution_count": null,
   "id": "5246d196-90bb-4794-a50b-2db299b5133a",
   "metadata": {},
   "outputs": [],
   "source": []
  }
 ],
 "metadata": {
  "kernelspec": {
   "display_name": "Python 3 (ipykernel)",
   "language": "python",
   "name": "python3"
  },
  "language_info": {
   "codemirror_mode": {
    "name": "ipython",
    "version": 3
   },
   "file_extension": ".py",
   "mimetype": "text/x-python",
   "name": "python",
   "nbconvert_exporter": "python",
   "pygments_lexer": "ipython3",
   "version": "3.12.3"
  }
 },
 "nbformat": 4,
 "nbformat_minor": 5
}
